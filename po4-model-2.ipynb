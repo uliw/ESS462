{
 "cells": [
  {
   "cell_type": "markdown",
   "metadata": {},
   "source": [
    "Marine Phosphate Cycling and primary productivity\n",
    "=================================================\n",
    "\n"
   ]
  },
  {
   "cell_type": "markdown",
   "metadata": {},
   "source": [
    "## Notes:\n",
    "\n"
   ]
  },
  {
   "cell_type": "markdown",
   "metadata": {},
   "source": [
    "-   This `Jupyter Notebook` contains text cells, and code cells.\n",
    "-   You can edit the text cells using markdown syntax. Just double click this cell to try it out. When finished, press shift+enter.\n",
    "-   You can execute the python code in each text cell by placing the cursor into a code-cell, and press shift+enter.\n",
    "-   If you have more then one code cell, you need to execute them in sequential\n",
    "    order since each cell depends on the output of the previous cell.\n",
    "\n"
   ]
  },
  {
   "cell_type": "markdown",
   "metadata": {},
   "source": [
    "## Model structure\n",
    "\n"
   ]
  },
  {
   "cell_type": "markdown",
   "metadata": {},
   "source": [
    "In the following, we use a two box ocean model. The surface box represents the `photic zone`  of the ocean, and the deep-box represents the `deep ocean` that is below the photic zone.  The mode approximates the `thermohaline circulation` by two fluxes, $F_u$ which describes the upwelling of deep water, and $F_d$ which describes the downwelling of surface water.\n",
    "\n",
    "Marine primary productivity (i.e., photosynthesis) is typically limited by the availability of dissolved phosphate. In order to keep the model simple, we assume a linear relationship between the Phosphate concentration and the amount of `organic matter` that is produced by photosynthesis. Since we are only interested in Phosphate, there are no terms for organic matter (OM) production. However, since OM will eventually sink into the deep ocean, the organic bound Phosphate will also sink into the deep ocean. I will call this settling flux $F_{POP}$ which stands for \"Particulate Organic Phosphate\". So we can express  $F_{POP}$ as being proportional to the PO<sub>4</sub> concentration:\n",
    "\n",
    "\\begin{equation}\\label{}\n",
    "F_{POP} = [PO_4] \\times \\frac{V_S}{\\tau}\n",
    "\\end{equation}\n",
    "\n",
    "where $\\tau$ is a constant, and $V_S$ is the volume of the surface box. Now, why the so complicated? Consider the definition of the residence time:\n",
    "\n",
    "\\begin{equation}\\label{}\n",
    "R_t = \\frac{M}{F}\n",
    "\\end{equation}\n",
    "\n",
    "if we re-arrange this, we get:\n",
    "\n",
    "\\begin{equation}\\label{}\n",
    "F = \\frac{M}{R_t}\n",
    "\\end{equation}\n",
    "\n",
    "which is the same as $F_{POP}$ equation above.  In other words, $\\tau$ is the residence time of phosphate in the surface ocean.  Neat!\n",
    "\n",
    "We can now describe the equations that govern [PO<sub>4</sub>] in the surface and deep ocean\n",
    "\n",
    "![img](./images/mpc.png)\n",
    "\n",
    "Similar to the previous  model, our fluxes are not static (with the exception of the weathering flux). $F_u$ and $F_b$ depend on the velocity of thermohaline circulation, and the respective phosphate concentration in each box:\n",
    "\n",
    "\\begin{equation}\\label{}\n",
    "F_u = thc \\times [PO_4]_{D}\n",
    "\\end{equation}\n",
    "\n",
    "where `thc` denotes the velocity of  the thermohaline circulation, and $[PO_4]_D$ the concentration in the deep ocean.  A similar equation can be written for $F_d$. \n",
    "\n"
   ]
  },
  {
   "cell_type": "markdown",
   "metadata": {},
   "source": [
    "#### The burial flux\n",
    "\n"
   ]
  },
  {
   "cell_type": "markdown",
   "metadata": {},
   "source": [
    "Most of the sinking organic matter will be `remineralized` in the deep\n",
    "ocean. For our model, we sill assume that the remineralization efficiency is\n",
    "about 99% percent. I.e., only 1% percent of the marine export productivity is\n",
    "buried in the sediments. We can thus write:\n",
    "\n",
    "\\begin{equation}\\label{}\n",
    "F_b = F_{POP} \\times (1 -\\epsilon)\n",
    "\\end{equation}\n",
    "\n",
    "where $\\epsilon$ denotes the burial efficiency (i.e., 99% = 0.99). \n",
    "\n"
   ]
  },
  {
   "cell_type": "markdown",
   "metadata": {},
   "source": [
    "### Model Equations\n",
    "\n"
   ]
  },
  {
   "cell_type": "markdown",
   "metadata": {},
   "source": [
    "For the PO4 concentration in the surface ocean, we can write:\n",
    "\n",
    "\\begin{equation}\\label{}\n",
    "\\frac{[PO_{4}]_{S}}{dt} = F_w + [PO_{4}]_{D} \\times thc - [PO_{4}]_{S} \\times thc - [PO_{4}]_{S} \\times \\frac{V_S}{\\tau}\n",
    "\\end{equation}\n",
    "\n",
    "and for the deep ocean:\n",
    "\n",
    "\\begin{equation}\\label{}\n",
    "\\frac{[PO_4]_S}{dt} =  [PO_4]_S \\times \\frac{V_S}{\\tau} \\times \\epsilon + [PO_4]_{S} \\times thc - [PO_4]_{D} \\times thc\n",
    "\\end{equation}\n",
    "\n",
    "Note that both equations depend on each other, i.e., we need to know the result from one equation to calculate the result of the other equation (i.e., coupled differential equations).\n",
    "\n"
   ]
  },
  {
   "cell_type": "markdown",
   "metadata": {},
   "source": [
    "## Model boundary conditions\n",
    "\n"
   ]
  },
  {
   "cell_type": "markdown",
   "metadata": {},
   "source": [
    "As before, use your notes to find the missing boundary condition data below, and edit the code accordingly. Then execute the code cell, and verify the values in the print out\n",
    "before you continue.\n",
    "\n",
    "Note if your values are way off, the model will either not run, or run forever. So check that F<sub>r</sub> is between 1E3 and 2E3 mol/s, and that your surface ocean volume is between 20E15 and 40E15 m<sup>2</sup>, and the deep ocean volume is between 1E18 and 2E18 m<sup>3</sup>. THC must be between 20E6 and 40E6. If in doubt check with instructor.\n",
    "\n"
   ]
  },
  {
   "cell_type": "code",
   "execution_count": 2,
   "metadata": {},
   "outputs": [
    {
     "name": "stdout",
     "output_type": "stream",
     "text": [
      "Vs = 3.00e+16 m^3, C_0_s = 0.00 mol/m^3\n",
      "Vd = 1.33e+18 m^3, C_0_d = 0.01 mol/m^3\n",
      "tau = 1 yrs, r = 0.99, run time = 4.00e+06 yrs\n"
     ]
    }
   ],
   "source": [
    "\"\"\"\n",
    "A simple P-cycle model, based on chapter 8 of Modeling Methods for the marine\n",
    "sciences.\n",
    "\n",
    "This model uses a 2 box ocean, and the P-export flux depends on the biological\n",
    "productivity in the surface ocean\n",
    "\"\"\"\n",
    "from scipy.integrate import solve_ivp\n",
    "import matplotlib.pyplot as plt\n",
    "import numpy as np\n",
    "\n",
    "F_r = 1.5e3*2  # River (weathering) flux of PO4 mol/s\n",
    "tau = 1  # P residency time in surface ocean in years\n",
    "r = 0.99  # remineralization efficiency\n",
    "V = [30e15, 1.33e18]  # Volume of surface and deep box m^3\n",
    "THC = 25e6  # m^3/s or 25 Sv = Sverdrup\n",
    "C_0 = [1.5784e-4, 6.1e-03]  #\n",
    "time = 4e6  # run time in years\n",
    "show_deep_ocean_data = True # True or False\n",
    "print(f\"Vs = {V[0]:.2e} m^3, C_0_s = {C_0[0]:.2f} mol/m^3\")\n",
    "print(f\"Vd = {V[1]:.2e} m^3, C_0_d = {C_0[1]:.2f} mol/m^3\")\n",
    "print(f\"tau = {tau} yrs, r = {r:.2f}, run time = {time:.2e} yrs\")"
   ]
  },
  {
   "cell_type": "markdown",
   "metadata": {},
   "source": [
    "## Execute the model\n",
    "\n"
   ]
  },
  {
   "cell_type": "markdown",
   "metadata": {},
   "source": [
    "Run the below code and you should see a graph describing how the marine PO<sub>4</sub> concentration changes with time.\n",
    "\n"
   ]
  },
  {
   "cell_type": "code",
   "execution_count": 3,
   "metadata": {},
   "outputs": [
    {
     "name": "stdout",
     "output_type": "stream",
     "text": [
      "tau = 1.000000 yrs, C_s = 3.16e-04 mol/m^2, C_d = 1.22e-02 mol/m^3\n"
     ]
    },
    {
     "data": {
      "image/png": "[encoded data removed]",
      "text/plain": [
       "<Figure size 768x576 with 1 Axes>"
      ]
     },
     "metadata": {},
     "output_type": "display_data"
    }
   ],
   "source": [
    "# some misc defintions\n",
    "year_to_seconds = 60 * 60 * 24 * 365.2425  #\n",
    "tau = tau * year_to_seconds  # convert to seconds\n",
    "t_span = (0, time * year_to_seconds)  # model run time\n",
    "p = (V, F_r, THC, tau, r)  # function arguments\n",
    "max_step = t_span[1] / 100\n",
    "\n",
    "def dCdt(t, C_0, V, F_r, THC, tau, r):\n",
    "    \"\"\"Calculate the change in concentration as function of time\n",
    "\n",
    "    :param t: array, not used but must be present\n",
    "    :param C_0: array of initial conditions (concentrations)\n",
    "    :params V_s: Volume of surface ocean [m^3]\n",
    "    :param V_d: Volume of deep ocean [m^3]\n",
    "    :param F_r: River (weathering) flux of PO4 mol/s\n",
    "    :param THC: Thermo haline circulation flux\n",
    "    :param r: remineralization efficiency from 0 to 1\n",
    "    :returns: array of dC/dt values\n",
    "\n",
    "        The surface to deep ocean flux has two components:\n",
    "\n",
    "            1. The dissolved PO4 that is removed via the thermohaline\n",
    "               circulation, i.e., THC * C_s\n",
    "\n",
    "            2. The particulate organic matter that sinks into the deep ocean and\n",
    "               carries PO4 as as port of the cell structure.  This flux depends\n",
    "               on the marine export productivity which is limited by the PO4\n",
    "               concentratio, i.e., C_s* V / tau wher tau is a scaling factor\n",
    "    \"\"\"\n",
    "\n",
    "    C_s = C_0[0]  # surface ocean concentration\n",
    "    C_d = C_0[1]  # deep ocean concentration\n",
    "    V_s = V[0]  # surface ocean volume\n",
    "    V_d = V[1]  # deep ocean volume\n",
    "\n",
    "    P = C_s * V_s / tau  # export productivity\n",
    "    F_b = P * (1 - r)  # P burial\n",
    "    F_s2d = THC * C_s  # Surface to deep ocean flux\n",
    "    F_d2s = THC * C_d  # Deep to surface ocean flux\n",
    "\n",
    "    # dC/dt surface ocean\n",
    "    dCdt_s = (F_r + F_d2s - F_s2d - P) / V_s\n",
    "    # dC/dt deep ocean\n",
    "    dCdt_d = (F_s2d + P - F_d2s - F_b) / V_d\n",
    "\n",
    "    return [dCdt_s, dCdt_d]\n",
    "\n",
    "result = solve_ivp(  # integrate dC/dt\n",
    "    dCdt,\n",
    "    t_span,\n",
    "    C_0,\n",
    "    args=p,\n",
    "    method=\"BDF\",\n",
    "    max_step=max_step,\n",
    ")\n",
    "t = result.t / year_to_seconds / 1e6  # time in Myr\n",
    "C_s = result.y[0]  # surface box concentration in mol/m^3\n",
    "C_d = result.y[1]  # deep box concentration in mol/m^3\n",
    "\n",
    "print(\n",
    "    f\"tau = {tau/year_to_seconds:f} yrs, C_s = {C_s[-1]:.2e} mol/m^2, C_d = {C_d[-1]:.2e} mol/m^3\"\n",
    ")\n",
    "fig, ax = plt.subplots()\n",
    "ax.plot(t, C_s, color=\"C0\", label=\"Surface Ocean\")\n",
    "if show_deep_ocean_data:\n",
    "    ax.plot(t, C_d, color=\"C1\", label=\"Deep Ocean\")\n",
    "ax.set_xlabel(\"Time [Myr]\")\n",
    "ax.set_ylabel(\"P concentration [mol/m^3]\")\n",
    "ax.legend()\n",
    "ax.grid()\n",
    "fig.tight_layout()\n",
    "plt.show()"
   ]
  },
  {
   "cell_type": "markdown",
   "metadata": {},
   "source": [
    "Now lets do some sanity checks. Calculate the residence time for the phosphate\n",
    "in the deep ocean and check that it is around 609kyrs. If not, there is a\n",
    "mistake in the boundary conditions.\n",
    "\n"
   ]
  }
 ],
 "metadata": {
  "kernelspec": {
   "display_name": "Python 3",
   "language": "python",
   "name": "python3"
  },
  "language_info": {
   "codemirror_mode": {
    "name": "ipython",
    "version": 3
   },
   "file_extension": ".py",
   "mimetype": "text/x-python",
   "name": "python",
   "nbconvert_exporter": "python",
   "pygments_lexer": "ipython3",
   "version": "3.9.13"
  },
  "org": null
 },
 "nbformat": 4,
 "nbformat_minor": 1
}
