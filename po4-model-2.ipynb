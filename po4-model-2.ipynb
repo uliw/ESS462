{
 "cells": [
  {
   "cell_type": "markdown",
   "metadata": {},
   "source": [
    "Marine Phosphate Cycling and primary productivity\n",
    "=================================================\n",
    "\n"
   ]
  },
  {
   "cell_type": "markdown",
   "metadata": {},
   "source": [
    "## Notes:\n",
    "\n"
   ]
  },
  {
   "cell_type": "markdown",
   "metadata": {},
   "source": [
    "-   This `Jupyter Notebook` contains text cells, and code cells.\n",
    "-   You can edit the text cells using markdown syntax. Just double click this cell to try it out. When finished, press shift+enter.\n",
    "-   You can execute the python code in each text cell by placing the cursor into a code-cell, and press shift+enter.\n",
    "-   If you have more then one code cell, you need to execute them in sequential\n",
    "    order since each cell depends on the output of the previous cell.\n",
    "\n"
   ]
  },
  {
   "cell_type": "markdown",
   "metadata": {},
   "source": [
    "## Model structure\n",
    "\n"
   ]
  },
  {
   "cell_type": "markdown",
   "metadata": {},
   "source": [
    "In the following, we use a two box ocean model. The surface box represents the `photic zone`  of the ocean, and the deep-box represents the `deep ocean` that is below the photic zone.  The mode approximates the `thermohaline circulation` by two fluxes, $F_u$ which describes the upwelling of deep water, and $F_d$ which describes the downwelling of surface water.\n",
    "\n",
    "Marine primary productivity (i.e., photosynthesis) is typically limited by the availability of dissolved phosphate. In order to keep the model simple, we assume a linear relationship between the Phosphate concentration and the amount of `organic matter` that is produced by photosynthesis. Since we are only interested in Phosphate, there are no terms for organic matter (OM) production. However, since OM will eventually sink into the deep ocean, the organic bound Phosphate will also sink into the deep ocean. I will call this settling flux $F_{POC}$ which stands for \"Particulate Organic Phosphate\". So we can express  $F_POC$ as being proportional to the PO<sub>4</sub> concentration:\n",
    "\n",
    "\\begin{equation}\\label{}\n",
    "F_{POC} = [PO_4] \\times \\frac{V_S}{\\tau}\n",
    "\\end{equation}\n",
    "\n",
    "where $\\tau$ is a constant, and $V_S$ is the volume of the surface box. Now, why the so complicated? Consider the definition of the residence time:\n",
    "\n",
    "\\begin{equation}\\label{}\n",
    "R_t = \\frac{M}{F}\n",
    "\\end{equation}\n",
    "\n",
    "if we re-arrange this, we get:\n",
    "\n",
    "\\begin{equation}\\label{}\n",
    "F = \\frac{M}{R_t}\n",
    "\\end{equation}\n",
    "\n",
    "which is the same as $F_{POC}$ equation above.  In other words, $\\tau$ is the residence time of phosphate in the surface ocean.  Neat!\n",
    "\n",
    "We can now describe the equations that govern [PO<sub>4</sub>] in the surface and deep ocean\n",
    "\n",
    "![img](./images/mpc.png)\n",
    "\n",
    "Similar to the previous  model, our fluxes are not static (with the exception of the weathering flux). $F_u$ and $F_b$ depend on the velocity of thermohaline circulation, and the respective phosphate concentration in each box:\n",
    "\n",
    "\\begin{equation}\\label{}\n",
    "F_u = thc \\times [PO_4]_{D}\n",
    "\\end{equation}\n",
    "\n",
    "where `thc` denotes the velocity of  the thermohaline circulation, and $[PO_4]_D$ the concentration in the deep ocean.  A similar equation can be written for $F_d$. \n",
    "\n"
   ]
  },
  {
   "cell_type": "markdown",
   "metadata": {},
   "source": [
    "#### The burial flux\n",
    "\n"
   ]
  },
  {
   "cell_type": "markdown",
   "metadata": {},
   "source": [
    "Most of the sinking organic matter will be `remineralized` in the deep\n",
    "ocean. For our model, we sill assume that the remineralization efficiency is\n",
    "about 99% percent. I.e., only 1% percent of the marine export productivity is\n",
    "buried in the sediments. We can thus write:\n",
    "\n",
    "\\begin{equation}\\label{}\n",
    "F_b = F_{POC} \\times (1 -\\epsilon)\n",
    "\\end{equation}\n",
    "\n",
    "where $\\epsilon$ denotes the burial efficiency (i.e., 99% = 0.99). \n",
    "\n"
   ]
  },
  {
   "cell_type": "markdown",
   "metadata": {},
   "source": [
    "### Model Equations\n",
    "\n"
   ]
  },
  {
   "cell_type": "markdown",
   "metadata": {},
   "source": [
    "For the PO4 concentration in the surface ocean, we can write:\n",
    "\n",
    "\\begin{equation}\\label{}\n",
    "\\frac{[PO_{4}]_{S}}{dt} = F_w + [PO_{4}]_{D} \\times thc - [PO_{4}]_{S} \\times thc - [PO_{4}]_{S} \\times \\frac{V_S}{\\tau}\n",
    "\\end{equation}\n",
    "\n",
    "and for the deep ocean:\n",
    "\n",
    "\\begin{equation}\\label{}\n",
    "\\frac{[PO_4]_S}{dt} =  [PO_4]_S \\times \\frac{V_S}{\\tau} \\times \\epsilon + [PO_4]_{S} \\times thc - [PO_4]_{D} \\times thc\n",
    "\\end{equation}\n",
    "\n",
    "Note that both equations depend on each other, i.e., we need to know the result from one equation to calculate the result of the other equation (i.e., coupled differential equations).\n",
    "\n"
   ]
  },
  {
   "cell_type": "markdown",
   "metadata": {},
   "source": [
    "## Model boundary conditions\n",
    "\n"
   ]
  },
  {
   "cell_type": "markdown",
   "metadata": {},
   "source": [
    "As before, use your notes to find the missing boundary condition data below, and edit the code accordingly. Then execute the code cell, and verify the values in the print out\n",
    "before you continue.\n",
    "\n",
    "Note if your values are way off, the model will either not run, or run forever. So check that F<sub>r</sub> is between 1E3 and 2E3 mol/s, and that your surface ocean volume is between 20E15 and 40E15 m<sup>2</sup>, and the deep ocean volume is between 1E18 and 2E18 m<sup>3</sup>. THC must be between 20E6 and 40E6. If in doubt check with instructor.\n",
    "\n"
   ]
  },
  {
   "cell_type": "code",
   "execution_count": 1,
   "metadata": {},
   "outputs": [],
   "source": [
    "\"\"\"\n",
    "A simple P-cycle model, based on chapter 8 of Modeling Methods for the marine\n",
    "sciences.\n",
    "\n",
    "This model uses a 2 box ocean, and the export flux depends on the biological\n",
    "productivity in the surface ocean\n",
    "\"\"\"\n",
    "from scipy.integrate import solve_ivp\n",
    "import matplotlib.pyplot as plt\n",
    "\n",
    "F_r = 1.5e3  # River (weathering) flux of PO4 mol/s\n",
    "V = [30e15, 1.33e18]  # Volume of surface and deep box m^3\n",
    "THC = 25.0e6  # m^3/s\n",
    "tau = 100  # P residency time in surface ocean in years\n",
    "r = 0.99  # remineralization efficiency\n",
    "C_0 = [0, 0]  # initial P in surface and deep box\n",
    "time = 4e6  # years\n",
    "print(f\"Vs = {V[0]:.2e}m^3, C_0_s = {C_0[0]:.2f}mol/m^3\")\n",
    "print(f\"Vd = {V[1]:.2e}M^3, C_0_d = {C_0[1]:.2f}mol/M^3\")\n",
    "print(f\"tau = {tau} yrs, r = {r:.2f}, run time = {time:.2e} yrs\")"
   ]
  },
  {
   "cell_type": "markdown",
   "metadata": {},
   "source": [
    "## Execute the model\n",
    "\n"
   ]
  },
  {
   "cell_type": "markdown",
   "metadata": {},
   "source": [
    "Run the below code and you should see a graph describing how the marine PO<sub>4</sub> concentration changes with time.\n",
    "\n"
   ]
  },
  {
   "cell_type": "code",
   "execution_count": 1,
   "metadata": {},
   "outputs": [],
   "source": [
    "# some misc defintions\n",
    "year_to_seconds = 60 * 60 * 24 * 365.2425  #\n",
    "tau = tau * year_to_seconds  # convert to seconds\n",
    "t_span = (0, time * year_to_seconds)  # model run time\n",
    "p = (V, F_r, THC, tau, r)  # function arguments\n",
    "\n",
    "def dCdt(t, C_0, V, F_r, THC, tau, r):\n",
    "    \"\"\"Calculate the change in concentration as function of time\n",
    "\n",
    "    :param t: array, not used but must be present\n",
    "    :param C_0: array of initial conditions (concentrations)\n",
    "    :params V_s: Volume of surface ocean [m^3]\n",
    "    :param V_d: Volume of deep ocean [m^3]\n",
    "    :param F_r: River (weathering) flux of PO4 mol/s\n",
    "    :param THC: Thermo haline circulation flux\n",
    "    :param r: remineralization efficiency from 0 to 1\n",
    "    :returns: array of dC/dt values\n",
    "\n",
    "        The surface to deep ocean flux has two components:\n",
    "\n",
    "            1. The dissolved PO4 that is removed via the thermohaline\n",
    "               circulation, i.e., THC * C_s\n",
    "\n",
    "            2. The particulate organic matter that sinks into the deep ocean and\n",
    "               carries PO4 as as port of the cell structure.  This flux depends\n",
    "               on the marine export productivity which is limited by the PO4\n",
    "               concentratio, i.e., C_s* V / tau wher tau is a scaling factor\n",
    "    \"\"\"\n",
    "\n",
    "    C_s = C_0[0]  # surface ocean concentration\n",
    "    C_d = C_0[1]  # deep ocean concentration\n",
    "    V_s = V[0]  # surface ocean volume\n",
    "    V_d = V[1]  # deep ocean volume\n",
    "\n",
    "    P = C_s * V_s / tau  # export productivity\n",
    "    F_b = P * (1 - r)  # P burial\n",
    "    F_s2d = THC * C_s  # Surface to deep ocean flux\n",
    "    F_d2s = THC * C_d  # Deep to surface ocean flux\n",
    "\n",
    "    # dC/dt surface ocean\n",
    "    dCdt_s = (F_r + F_d2s - F_s2d - P) / V_s\n",
    "    # dC/dt deep ocean\n",
    "    dCdt_d = (F_s2d + P - F_d2s - F_b) / V_d\n",
    "\n",
    "    return [dCdt_s, dCdt_d]\n",
    "\n",
    "# integrate dC/dt\n",
    "result = solve_ivp(dCdt, t_span, C_0, args=p)\n",
    "t = result.t / year_to_seconds / 1e6  # time in Myr\n",
    "C_s = result.y[0]  # surface box concentration in mol/m^3\n",
    "C_d = result.y[1]  # deep box concentration in mol/m^3\n",
    "\n",
    "print(\n",
    "    f\"tau = {tau/year_to_seconds:f} yrs, C_s = {C_s[-1]:.2e} mol/m^2, C_d = {C_d[-1]:.2e} mol/m^3\"\n",
    ")\n",
    "fig, ax = plt.subplots()\n",
    "ax.plot(t, C_s, color=\"C0\", label=\"Surface Ocean\")\n",
    "ax.plot(t, C_d, color=\"C1\", label=\"Deep Ocean\")\n",
    "ax.set_xlabel(\"Time [Myr]\")\n",
    "ax.set_ylabel(\"P concentration [mol/m^3]\")\n",
    "ax.legend()\n",
    "ax.grid()\n",
    "fig.tight_layout()\n",
    "plt.show()"
   ]
  },
  {
   "cell_type": "markdown",
   "metadata": {},
   "source": [
    "Now lets do some sanity checks. Calculate the residence time for the phosphate\n",
    "in the deep ocean and check that it is around 609kyrs. If not, there is a\n",
    "mistake in the boundary conditions.\n",
    "\n"
   ]
  },
  {
   "cell_type": "markdown",
   "metadata": {},
   "source": [
    "## Assignment\n",
    "\n"
   ]
  },
  {
   "cell_type": "markdown",
   "metadata": {},
   "source": [
    "#### Uptake efficiency and residence time\n",
    "\n"
   ]
  },
  {
   "cell_type": "markdown",
   "metadata": {},
   "source": [
    "The marine export productivity is an important component of the carbon cycle. It acts as pumping\n",
    "mechanism that removes CO<sub>2</sub> from the surface waters and stores it in the ocean. It has been suggested\n",
    "that artificial fertilization of the surface waters could help to remove more CO<sub>2</sub> from the\n",
    "atmosphere. For now, lets investigate how changes in phosphate uptake affect the residence time and\n",
    "phosphate concentration in the surface and deep ocean. Fun fact, the residence time of phosphate in\n",
    "today's surface ocean is on the order of 1 year.\n",
    "\n",
    "Create an excel spreadsheet and record/calculate the following values:\n",
    "\n",
    "| <b>$\\tau$ [yrs]</b>|<b>C<sub>S</sub> [mol/m<sup>3</sup>]</b>|<b>C<sub>DC</sub><sub>S</sub> [mol/m<sup>3</sup>]</b>|<b>DC C<sub>S</sub> [mol/l]</b>|<b>Rt<sub>D</sub> [yrs]</b>|\n",
    "|---|---|---|---|---|\n",
    "| 1|0|0|0|0|\n",
    "| 10|0|0|0|0|\n",
    "| 50|0|0|0|0|\n",
    "| 100|0|0|0|0|\n",
    "| 200|0|0|0|0|\n",
    "\n",
    "When you are done, save the spreadsheet, edit this table and transfer the data from the\n",
    "spreadsheet. Note, it is likely useful to explicitly set the number format, so that excel uses\n",
    "scientific notation (e.g., 1E11 etc.).\n",
    "\n",
    "-   How does biological uptake efficiency (i.e. the speed of photosynthetic organic matter production), affect the concentration of phosphate in the surface ocean?\n",
    "-   Does the change in the biological uptake efficiency  affect the concentration difference between the surface and deep ocean?\n",
    "-   Why does the change in biological uptake efficiency affect the residence time of phosphate in the deep ocean?\n",
    "\n"
   ]
  },
  {
   "cell_type": "markdown",
   "metadata": {},
   "source": [
    "#### Uptake efficiency and marine export productivity\n",
    "\n"
   ]
  },
  {
   "cell_type": "markdown",
   "metadata": {},
   "source": [
    "Using your previous spreadsheet, calculate the following values (the equations are given above)\n",
    "\n",
    "| <b>$\\tau$ [yrs]</b>|<b>Fd [mol/s]</b>|<b>F<sub>POC</sub> [mol/s]</b>|\n",
    "|---|---|---|\n",
    "| 1|0|0|\n",
    "| 10|0|0|\n",
    "| 50|0|0|\n",
    "| 100|0|0|\n",
    "| 200|0|0|\n",
    "\n",
    "-   Compare the magnitude of the particulate organic matter flux against the amount phosphate that is transported by the thermohaline circulation through downwelling ($F_d$).\n",
    "-   Why does increasing the biological uptake efficiency not increase the biological export production?\n",
    "-   Based on the answer in the previous section, what would we need to do in order to increase the biological CO<sub>2</sub> pump by a factor of 2?\n",
    "-   Can you think of a way to test this with your model?\n",
    "\n"
   ]
  },
  {
   "cell_type": "markdown",
   "metadata": {},
   "source": [
    "### Adding  this workbook to obsidian\n",
    "\n"
   ]
  },
  {
   "cell_type": "markdown",
   "metadata": {},
   "source": [
    "1.  Right click on the image in the jupyter notebook, and select `save image as` and save it into the images directory Obsidian vault.\n",
    "2.  Using the `File` dialogue under the jupyter logo, select \"download as markdown\" and save the file into your Obsidian vault.\n",
    "3.  Open the note and create links as a appropriate. If this fails, speak up.\n",
    "\n"
   ]
  }
 ],
 "metadata": {
  "kernelspec": {
   "display_name": "Python 3",
   "language": "python",
   "name": "python3"
  },
  "language_info": {
   "codemirror_mode": {
    "name": "ipython",
    "version": 3
   },
   "file_extension": ".py",
   "mimetype": "text/x-python",
   "name": "python",
   "nbconvert_exporter": "python",
   "pygments_lexer": "ipython3",
   "version": "3.9.13"
  },
  "org": null
 },
 "nbformat": 4,
 "nbformat_minor": 1
}
