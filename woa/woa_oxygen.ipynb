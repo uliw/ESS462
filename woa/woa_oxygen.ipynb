{
 "cells": [
  {
   "cell_type": "markdown",
   "metadata": {},
   "source": [
    "# Oxygen"
   ]
  },
  {
   "cell_type": "code",
   "execution_count": 1,
   "metadata": {},
   "outputs": [],
   "source": [
    "import cartopy.crs as ccrs\n",
    "import matplotlib.pyplot as plt\n",
    "import my_utils\n",
    "\n",
    "variable = \"Oxygen\"  #\n",
    "depth = 50  # in meter below sealevel\n",
    "time_frame = \"00\"  # , \"00\" for annual. See WOA documentation for other values\n",
    "resolution = \"01\"  # see WOA Documentation\n",
    "data_set = \"WOA18\"  # see WOA Documentation\n",
    "color_scheme = \"RdBu_r\"\n",
    "color_levels = 11  # number of color levels if z_min_max is not set\n",
    "z_min_max = [0, 360, 20]  # min, max, step, ignored if min = max\n",
    "projection = ccrs.Robinson(central_longitude=-150)\n",
    "fig_size = (10, 7)  # in inches\n",
    "output_format = \"png\"\n",
    "\n",
    "# get the nearest depth where data is available\n",
    "depth_level = my_utils.get_depth_interval(depth)\n",
    "\n",
    "# load WOA data\n",
    "data, cb_label, cube = my_utils.load_woa_data(\n",
    "    variable,\n",
    "    depth_level,\n",
    "    time_frame,\n",
    "    resolution,\n",
    "    data_set,\n",
    ")\n",
    "# plot data\n",
    "fig, ax = my_utils.make_map(\n",
    "    data,\n",
    "    projection,\n",
    "    fig_size,\n",
    "    cb_label,\n",
    "    color_scheme,\n",
    "    z_min_max,\n",
    "    color_levels,\n",
    ")\n",
    "\n",
    "# add title, save figure, and show plot\n",
    "title = f\"{data_set}, {variable}, {depth} mbsl, {time_frame}\"\n",
    "fig_name = f\"{data_set}_{variable}_{depth}_{time_frame}_{color_scheme}.{output_format}\"\n",
    "plt.title(title)\n",
    "fig.savefig(fig_name)\n",
    "plt.show()"
   ]
  },
  {
   "cell_type": "markdown",
   "metadata": {},
   "source": [
    "This might result in a couple of warnings about units being wrong. Those can be ignored safely\n",
    "\n"
   ]
  }
 ],
 "metadata": {
  "kernelspec": {
   "display_name": "Python 3",
   "language": "python",
   "name": "python3"
  },
  "language_info": {
   "codemirror_mode": {
    "name": "ipython",
    "version": 3
   },
   "file_extension": ".py",
   "mimetype": "text/x-python",
   "name": "python",
   "nbconvert_exporter": "python",
   "pygments_lexer": "ipython3",
   "version": "3.9.16"
  },
  "org": null
 },
 "nbformat": 4,
 "nbformat_minor": 1
}
